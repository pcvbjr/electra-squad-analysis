{
 "cells": [
  {
   "cell_type": "code",
   "execution_count": 1,
   "metadata": {},
   "outputs": [],
   "source": [
    "import pandas as pd"
   ]
  },
  {
   "cell_type": "code",
   "execution_count": 2,
   "metadata": {},
   "outputs": [
    {
     "data": {
      "text/html": [
       "<div>\n",
       "<style scoped>\n",
       "    .dataframe tbody tr th:only-of-type {\n",
       "        vertical-align: middle;\n",
       "    }\n",
       "\n",
       "    .dataframe tbody tr th {\n",
       "        vertical-align: top;\n",
       "    }\n",
       "\n",
       "    .dataframe thead th {\n",
       "        text-align: right;\n",
       "    }\n",
       "</style>\n",
       "<table border=\"1\" class=\"dataframe\">\n",
       "  <thead>\n",
       "    <tr style=\"text-align: right;\">\n",
       "      <th></th>\n",
       "      <th>id</th>\n",
       "      <th>title</th>\n",
       "      <th>context</th>\n",
       "      <th>question</th>\n",
       "      <th>answers</th>\n",
       "      <th>predicted_answer</th>\n",
       "    </tr>\n",
       "  </thead>\n",
       "  <tbody>\n",
       "    <tr>\n",
       "      <th>0</th>\n",
       "      <td>56be4db0acb8001400a502ec</td>\n",
       "      <td>Super_Bowl_50</td>\n",
       "      <td>Super Bowl 50 was an American football game to...</td>\n",
       "      <td>Which NFL team represented the AFC at Super Bo...</td>\n",
       "      <td>{'text': ['Denver Broncos', 'Denver Broncos', ...</td>\n",
       "      <td>Denver Broncos</td>\n",
       "    </tr>\n",
       "    <tr>\n",
       "      <th>1</th>\n",
       "      <td>56be4db0acb8001400a502ed</td>\n",
       "      <td>Super_Bowl_50</td>\n",
       "      <td>Super Bowl 50 was an American football game to...</td>\n",
       "      <td>Which NFL team represented the NFC at Super Bo...</td>\n",
       "      <td>{'text': ['Carolina Panthers', 'Carolina Panth...</td>\n",
       "      <td>Carolina Panthers</td>\n",
       "    </tr>\n",
       "    <tr>\n",
       "      <th>2</th>\n",
       "      <td>56be4db0acb8001400a502ee</td>\n",
       "      <td>Super_Bowl_50</td>\n",
       "      <td>Super Bowl 50 was an American football game to...</td>\n",
       "      <td>Where did Super Bowl 50 take place?</td>\n",
       "      <td>{'text': ['Santa Clara, California', 'Levi's S...</td>\n",
       "      <td>Levi's Stadium in the San Francisco Bay Area a...</td>\n",
       "    </tr>\n",
       "    <tr>\n",
       "      <th>3</th>\n",
       "      <td>56be4db0acb8001400a502ef</td>\n",
       "      <td>Super_Bowl_50</td>\n",
       "      <td>Super Bowl 50 was an American football game to...</td>\n",
       "      <td>Which NFL team won Super Bowl 50?</td>\n",
       "      <td>{'text': ['Denver Broncos', 'Denver Broncos', ...</td>\n",
       "      <td>Denver Broncos</td>\n",
       "    </tr>\n",
       "    <tr>\n",
       "      <th>4</th>\n",
       "      <td>56be4db0acb8001400a502f0</td>\n",
       "      <td>Super_Bowl_50</td>\n",
       "      <td>Super Bowl 50 was an American football game to...</td>\n",
       "      <td>What color was used to emphasize the 50th anni...</td>\n",
       "      <td>{'text': ['gold', 'gold', 'gold'], 'answer_sta...</td>\n",
       "      <td>golden anniversary\" with various gold</td>\n",
       "    </tr>\n",
       "  </tbody>\n",
       "</table>\n",
       "</div>"
      ],
      "text/plain": [
       "                         id          title  \\\n",
       "0  56be4db0acb8001400a502ec  Super_Bowl_50   \n",
       "1  56be4db0acb8001400a502ed  Super_Bowl_50   \n",
       "2  56be4db0acb8001400a502ee  Super_Bowl_50   \n",
       "3  56be4db0acb8001400a502ef  Super_Bowl_50   \n",
       "4  56be4db0acb8001400a502f0  Super_Bowl_50   \n",
       "\n",
       "                                             context  \\\n",
       "0  Super Bowl 50 was an American football game to...   \n",
       "1  Super Bowl 50 was an American football game to...   \n",
       "2  Super Bowl 50 was an American football game to...   \n",
       "3  Super Bowl 50 was an American football game to...   \n",
       "4  Super Bowl 50 was an American football game to...   \n",
       "\n",
       "                                            question  \\\n",
       "0  Which NFL team represented the AFC at Super Bo...   \n",
       "1  Which NFL team represented the NFC at Super Bo...   \n",
       "2                Where did Super Bowl 50 take place?   \n",
       "3                  Which NFL team won Super Bowl 50?   \n",
       "4  What color was used to emphasize the 50th anni...   \n",
       "\n",
       "                                             answers  \\\n",
       "0  {'text': ['Denver Broncos', 'Denver Broncos', ...   \n",
       "1  {'text': ['Carolina Panthers', 'Carolina Panth...   \n",
       "2  {'text': ['Santa Clara, California', 'Levi's S...   \n",
       "3  {'text': ['Denver Broncos', 'Denver Broncos', ...   \n",
       "4  {'text': ['gold', 'gold', 'gold'], 'answer_sta...   \n",
       "\n",
       "                                    predicted_answer  \n",
       "0                                     Denver Broncos  \n",
       "1                                  Carolina Panthers  \n",
       "2  Levi's Stadium in the San Francisco Bay Area a...  \n",
       "3                                     Denver Broncos  \n",
       "4              golden anniversary\" with various gold  "
      ]
     },
     "execution_count": 2,
     "metadata": {},
     "output_type": "execute_result"
    }
   ],
   "source": [
    "eval_preds = pd.read_json('./output/eval_predictions.jsonl', lines=True)\n",
    "eval_preds.head()"
   ]
  },
  {
   "cell_type": "code",
   "execution_count": 6,
   "metadata": {},
   "outputs": [
    {
     "data": {
      "text/plain": [
       "id                                           573750f51c45671900574467\n",
       "title                                                           Force\n",
       "context             Newton's Second Law asserts the direct proport...\n",
       "question            What describes the proportionality of accelera...\n",
       "answers             {'text': ['Newton's Second Law', 'Newton's Sec...\n",
       "predicted_answer                                  Newton's Second Law\n",
       "Name: 10398, dtype: object"
      ]
     },
     "execution_count": 6,
     "metadata": {},
     "output_type": "execute_result"
    }
   ],
   "source": [
    "eval_preds.sample(1).iloc[0]"
   ]
  },
  {
   "cell_type": "code",
   "execution_count": 19,
   "metadata": {},
   "outputs": [
    {
     "name": "stdout",
     "output_type": "stream",
     "text": [
      "context change number same\n",
      "context change number different\n",
      "context rephrase temporal or causal same\n",
      "context rephrase temporal or causal different\n",
      "context synonym replacement same\n",
      "context synonym replacement different\n",
      "context coreference shift same\n",
      "context coreference shift different\n",
      "question change number same\n",
      "question change number different\n",
      "question rephrase temporal or causal same\n",
      "question rephrase temporal or causal different\n",
      "question synonym replacement same\n",
      "question synonym replacement different\n",
      "question coreference shift same\n",
      "question coreference shift different\n"
     ]
    }
   ],
   "source": [
    "from itertools import product\n",
    "\n",
    "perturb_where = ['context', 'question']\n",
    "perturb_how = ['change number', 'rephrase temporal or causal', 'synonym replacement', 'coreference shift']\n",
    "perturb_outcome = ['same', 'different']\n",
    "num_per_combo = 3\n",
    "\n",
    "rows = []\n",
    "for where, how, outcome in product(perturb_where, perturb_how, perturb_outcome):\n",
    "    for _ in range(num_per_combo):\n",
    "        sample = eval_preds.sample(1).iloc[0]\n",
    "        sample['perturb_where'] = where\n",
    "        sample['perturb_how'] = how\n",
    "        sample['perturb_outcome'] = outcome\n",
    "        rows.append(sample)\n",
    "\n",
    "        sample = sample.copy()\n",
    "        sample['perturb_where'] = None\n",
    "        sample['perturb_how'] = None\n",
    "        sample['perturb_outcome'] = None\n",
    "        rows.append(sample)\n",
    "\n",
    "num_extras = 20\n",
    "for _ in range(num_extras):\n",
    "    sample = eval_preds.sample(1).iloc[0]\n",
    "    sample['perturb_where'] = None\n",
    "    sample['perturb_how'] = None\n",
    "    sample['perturb_outcome'] = None\n",
    "    rows.append(sample)\n",
    "\n",
    "fill_out_df = pd.DataFrame(rows)#.to_csv('./output/contrast_sets.csv', index=False)"
   ]
  },
  {
   "cell_type": "code",
   "execution_count": 20,
   "metadata": {},
   "outputs": [
    {
     "data": {
      "text/plain": [
       "id                  52\n",
       "title               52\n",
       "context             52\n",
       "question            52\n",
       "answers             52\n",
       "predicted_answer    52\n",
       "perturb_where       16\n",
       "perturb_how         16\n",
       "perturb_outcome     16\n",
       "dtype: int64"
      ]
     },
     "execution_count": 20,
     "metadata": {},
     "output_type": "execute_result"
    }
   ],
   "source": [
    "fill_out_df.notnull().sum()"
   ]
  },
  {
   "cell_type": "code",
   "execution_count": null,
   "metadata": {},
   "outputs": [],
   "source": []
  }
 ],
 "metadata": {
  "kernelspec": {
   "display_name": ".venv",
   "language": "python",
   "name": "python3"
  },
  "language_info": {
   "codemirror_mode": {
    "name": "ipython",
    "version": 3
   },
   "file_extension": ".py",
   "mimetype": "text/x-python",
   "name": "python",
   "nbconvert_exporter": "python",
   "pygments_lexer": "ipython3",
   "version": "3.9.2"
  }
 },
 "nbformat": 4,
 "nbformat_minor": 2
}
